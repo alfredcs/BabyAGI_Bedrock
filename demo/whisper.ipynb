{
 "cells": [
  {
   "cell_type": "markdown",
   "id": "f48f9d3a-ca75-4128-9c49-69733c03e31b",
   "metadata": {},
   "source": [
    "# Transcribe"
   ]
  },
  {
   "cell_type": "code",
   "execution_count": 2,
   "id": "1fbfc892-a120-4642-bada-e3ffe2950675",
   "metadata": {},
   "outputs": [
    {
     "name": "stdout",
     "output_type": "stream",
     "text": [
      "\u001b[31mERROR: pip's dependency resolver does not currently take into account all the packages that are installed. This behaviour is the source of the following dependency conflicts.\n",
      "gluonts 0.5.1 requires pandas<1.1,>=1.0, but you have pandas 1.4.3 which is incompatible.\n",
      "fbprophet 0.7.1 requires holidays>=0.10.2, but you have holidays 0.9.12 which is incompatible.\u001b[0m\u001b[31m\n",
      "\u001b[0m"
     ]
    }
   ],
   "source": [
    "!pip install git+https://github.com/openai/whisper.git -q"
   ]
  },
  {
   "cell_type": "code",
   "execution_count": 3,
   "id": "59473df6-d7a4-4116-8101-a1be1aa30dd8",
   "metadata": {},
   "outputs": [],
   "source": [
    "import whisper\n",
    "model = whisper.load_model(\"small\")"
   ]
  },
  {
   "cell_type": "code",
   "execution_count": 5,
   "id": "67ad1246-2172-4753-a941-703d5c3984c3",
   "metadata": {},
   "outputs": [
    {
     "name": "stdout",
     "output_type": "stream",
     "text": [
      " ¿Cuál es la fecha de tu cumpleaños?\n"
     ]
    }
   ],
   "source": [
    "result = model.transcribe(\"./cual-es-la-fecha-cumple.mp3\")\n",
    "print(result[\"text\"])"
   ]
  },
  {
   "cell_type": "code",
   "execution_count": null,
   "id": "6fed6645-fdf5-4661-bac9-da0bcfc48742",
   "metadata": {},
   "outputs": [],
   "source": []
  }
 ],
 "metadata": {
  "kernelspec": {
   "display_name": "dui",
   "language": "python",
   "name": "dui"
  },
  "language_info": {
   "codemirror_mode": {
    "name": "ipython",
    "version": 3
   },
   "file_extension": ".py",
   "mimetype": "text/x-python",
   "name": "python",
   "nbconvert_exporter": "python",
   "pygments_lexer": "ipython3",
   "version": "3.9.13"
  }
 },
 "nbformat": 4,
 "nbformat_minor": 5
}
